{
 "cells": [
  {
   "cell_type": "code",
   "execution_count": 2,
   "metadata": {},
   "outputs": [],
   "source": [
    "def singleton(class_):\n",
    "    instances = {}\n",
    "    def getinstance(*args, **kwargs):\n",
    "        if class_ not in instances:\n",
    "            instances[class_] = class_(*args, **kwargs)\n",
    "        return instances[class_]\n",
    "    return getinstance"
   ]
  },
  {
   "cell_type": "code",
   "execution_count": 3,
   "metadata": {},
   "outputs": [],
   "source": [
    "@singleton\n",
    "class FileOrganizer():\n",
    "    CLEANED_HTML_FILE_POSTFIX = \"_clean.html\"\n",
    "    HTML_FILE_POSTFIX = \".html\"\n",
    "    TREE_FILE_POSTFIX = \"_tree.txt\"\n",
    "    \n",
    "    def get_html_file_name(self, name: str):\n",
    "        return name + self.HTML_FILE_POSTFIX\n",
    "    \n",
    "    def get_html_cleaned_file_name(self, name: str):\n",
    "        return name + self.CLEANED_HTML_FILE_POSTFIX\n",
    "    \n",
    "    def get_tree_file_name(self, name: str):\n",
    "        return name + self.TREE_FILE_POSTFIX"
   ]
  },
  {
   "cell_type": "code",
   "execution_count": 4,
   "metadata": {},
   "outputs": [],
   "source": [
    "from bs4 import BeautifulSoup\n",
    "def read_html(name):\n",
    "    with open(FileOrganizer().get_html_file_name(name), \"r\") as html_page:\n",
    "        html = BeautifulSoup(html_page.read(), \"html.parser\")\n",
    "    return html\n"
   ]
  },
  {
   "cell_type": "code",
   "execution_count": 5,
   "metadata": {},
   "outputs": [],
   "source": [
    "def write_html(html: BeautifulSoup, name: str):\n",
    "    with open(FileOrganizer().get_html_cleaned_file_name(name), \"w\") as file:\n",
    "        file.write(str(html))"
   ]
  },
  {
   "cell_type": "code",
   "execution_count": 6,
   "metadata": {},
   "outputs": [],
   "source": [
    "name: str = \"jumia\""
   ]
  },
  {
   "cell_type": "code",
   "execution_count": 7,
   "metadata": {},
   "outputs": [],
   "source": [
    "html = read_html(name)\n",
    "write_html(html.prettify(), name)"
   ]
  },
  {
   "cell_type": "code",
   "execution_count": 8,
   "metadata": {},
   "outputs": [],
   "source": [
    "from enum import Enum\n",
    "\n",
    "class HEADER_TAG(str, Enum):\n",
    "    H1 = \"h1\"\n",
    "    H2 = \"h2\"\n",
    "    H3 = \"h3\"\n",
    "    \n",
    "IMG_TAG = \"img\""
   ]
  },
  {
   "cell_type": "code",
   "execution_count": 48,
   "metadata": {},
   "outputs": [
    {
     "name": "stdout",
     "output_type": "stream",
     "text": [
      "39\n"
     ]
    }
   ],
   "source": [
    "def count_imgs(html: BeautifulSoup):\n",
    "    count = 0\n",
    "    if html.name == IMG_TAG:\n",
    "        count += 1\n",
    "    count += len(html.find_all(IMG_TAG))\n",
    "    return count\n",
    "\n",
    "print(count_imgs(html))"
   ]
  },
  {
   "cell_type": "code",
   "execution_count": 49,
   "metadata": {},
   "outputs": [
    {
     "name": "stdout",
     "output_type": "stream",
     "text": [
      "18\n"
     ]
    }
   ],
   "source": [
    "def count_headers(html: BeautifulSoup):\n",
    "    count = 0\n",
    "    if html.name in list(HEADER_TAG):\n",
    "        count = 1\n",
    "    count += len(html.find_all(list(HEADER_TAG)))\n",
    "    return count\n",
    "\n",
    "print(count_headers(html))"
   ]
  },
  {
   "cell_type": "code",
   "execution_count": 90,
   "metadata": {},
   "outputs": [
    {
     "name": "stdout",
     "output_type": "stream",
     "text": [
      "[document]\n",
      "    div\n",
      "        ul\n",
      "            li\n",
      "                h1: About us\n",
      "            li\n",
      "                h2: Jumia careers\n",
      "            img: -fw, -fh >>https://ng.jumia.is/unsafe/fit-in/500x500/filters:fill(white)/product/54/8889201/1.jpg?5797\n",
      "\n"
     ]
    }
   ],
   "source": [
    "def tranverse_tree_print(html: BeautifulSoup, indent: str= \"\"):\n",
    "\n",
    "    is_include = True\n",
    "    is_include = count_imgs(html) > 0 or (count_headers(html) > 0 and html.text.strip() != \"\")\n",
    "    if not is_include:\n",
    "        return \"\"\n",
    "    \n",
    "    return_str = \"\"\n",
    "    if is_include:\n",
    "        texts = html.find_all(text=True, recursive=False)\n",
    "        texts = [t.strip() for t in texts]\n",
    "        texts = [t for t in texts if t]\n",
    "        # name        \n",
    "        return_str += indent + html.name \n",
    "        # id\n",
    "        if html.has_attr(\"id\"):\n",
    "            return_str += \"[\" + html['id'] + \"]\"\n",
    "        # text\n",
    "        if len(texts)>0:\n",
    "            for t in texts:\n",
    "                return_str+= \": \" + t \n",
    "        # or image source\n",
    "        if html.name == \"img\" and html.has_attr(\"src\"):\n",
    "            if html.has_attr(\"class\"):\n",
    "                return_str += \": \" + \", \".join(html['class'])\n",
    "            return_str += \" >>\" + html['src']\n",
    "        # next line\n",
    "        return_str+=\"\\n\"\n",
    "        children =  html.findChildren(recursive=False)\n",
    "        for e in children:\n",
    "            return_str += tranverse_tree_print(e, indent=indent+\"    \")\n",
    "    return return_str\n",
    "\n",
    "\n",
    "def test_tranverse_tree_print():\n",
    "    soup = BeautifulSoup(\"\"\"\n",
    "    <div>\n",
    "      <span>\n",
    "       ABOUT JUMIA\n",
    "      </span>\n",
    "      <ul>\n",
    "       <li>\n",
    "        <h1 class=\"h1\" href=\"https://www.jumia.com.ng/about_us/\">\n",
    "         About us\n",
    "        </h1>\n",
    "       </li>\n",
    "       <li>\n",
    "        <h2 class=\"h2\" href=\"https://www.jumia.com.ng/careers/\">\n",
    "         Jumia careers\n",
    "        </h2>\n",
    "        <h3>\n",
    "        </h3>\n",
    "       </li>\n",
    "       <img class=\"image\" alt=\"product_image_name-Binatone-Dry Iron (Di1255)-1\" class=\"-fw -fh\" data-src=\"https://ng.jumia.is/unsafe/fit-in/500x500/filters:fill(white)/product/54/8889201/1.jpg?5797\" src=\"https://ng.jumia.is/unsafe/fit-in/500x500/filters:fill(white)/product/54/8889201/1.jpg?5797\"/>\n",
    "      </ul>\n",
    "     </div>\n",
    "     <div/>\"\"\", \"html.parser\")\n",
    "    expect = \"\"\"[document]\n",
    "    div\n",
    "        ul\n",
    "            li\n",
    "                h1: About us\n",
    "            li\n",
    "                h2: Jumia careers\n",
    "            img: -fw, -fh >>https://ng.jumia.is/unsafe/fit-in/500x500/filters:fill(white)/product/54/8889201/1.jpg?5797\"\"\"\n",
    "    result = tranverse_tree_print(soup)\n",
    "    print(result)\n",
    "    assert expect.strip() == result.strip()\n",
    "\n",
    "test_tranverse_tree_print()"
   ]
  },
  {
   "cell_type": "code",
   "execution_count": 91,
   "metadata": {},
   "outputs": [],
   "source": [
    "def clean_by_tag(html: BeautifulSoup, tag_name: str):\n",
    "    for script in html(tag_name):\n",
    "        script.decompose()\n",
    "    return html"
   ]
  },
  {
   "cell_type": "code",
   "execution_count": 92,
   "metadata": {},
   "outputs": [],
   "source": [
    "def write_tree(html: BeautifulSoup, name: str):\n",
    "    html = clean_by_tag(html, \"script\")\n",
    "    html = clean_by_tag(html, \"head\")\n",
    "    html = clean_by_tag(html, \"header\")\n",
    "    html = clean_by_tag(html, \"footer\")\n",
    "    # html = clean_by_tag(html, \"link\")\n",
    "    str_to_write = tranverse_tree_print(html)\n",
    "    with open(FileOrganizer().get_tree_file_name(name), \"w\") as file:\n",
    "        file.write(str_to_write)\n",
    "        \n",
    "write_tree(html, name)"
   ]
  },
  {
   "cell_type": "code",
   "execution_count": null,
   "metadata": {},
   "outputs": [],
   "source": []
  }
 ],
 "metadata": {
  "kernelspec": {
   "display_name": "py39",
   "language": "python",
   "name": "python3"
  },
  "language_info": {
   "codemirror_mode": {
    "name": "ipython",
    "version": 3
   },
   "file_extension": ".py",
   "mimetype": "text/x-python",
   "name": "python",
   "nbconvert_exporter": "python",
   "pygments_lexer": "ipython3",
   "version": "3.9.17"
  },
  "orig_nbformat": 4
 },
 "nbformat": 4,
 "nbformat_minor": 2
}
